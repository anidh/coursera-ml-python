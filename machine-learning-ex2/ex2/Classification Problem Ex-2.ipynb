{
 "cells": [
  {
   "cell_type": "code",
   "execution_count": 1,
   "metadata": {},
   "outputs": [
    {
     "data": {
      "text/html": [
       "<div>\n",
       "<style scoped>\n",
       "    .dataframe tbody tr th:only-of-type {\n",
       "        vertical-align: middle;\n",
       "    }\n",
       "\n",
       "    .dataframe tbody tr th {\n",
       "        vertical-align: top;\n",
       "    }\n",
       "\n",
       "    .dataframe thead th {\n",
       "        text-align: right;\n",
       "    }\n",
       "</style>\n",
       "<table border=\"1\" class=\"dataframe\">\n",
       "  <thead>\n",
       "    <tr style=\"text-align: right;\">\n",
       "      <th></th>\n",
       "      <th>Test 1</th>\n",
       "      <th>Test 2</th>\n",
       "      <th>Accepted?</th>\n",
       "    </tr>\n",
       "  </thead>\n",
       "  <tbody>\n",
       "    <tr>\n",
       "      <th>0</th>\n",
       "      <td>0.051267</td>\n",
       "      <td>0.699560</td>\n",
       "      <td>1</td>\n",
       "    </tr>\n",
       "    <tr>\n",
       "      <th>1</th>\n",
       "      <td>-0.092742</td>\n",
       "      <td>0.684940</td>\n",
       "      <td>1</td>\n",
       "    </tr>\n",
       "    <tr>\n",
       "      <th>2</th>\n",
       "      <td>-0.213710</td>\n",
       "      <td>0.692250</td>\n",
       "      <td>1</td>\n",
       "    </tr>\n",
       "    <tr>\n",
       "      <th>3</th>\n",
       "      <td>-0.375000</td>\n",
       "      <td>0.502190</td>\n",
       "      <td>1</td>\n",
       "    </tr>\n",
       "    <tr>\n",
       "      <th>4</th>\n",
       "      <td>-0.513250</td>\n",
       "      <td>0.465640</td>\n",
       "      <td>1</td>\n",
       "    </tr>\n",
       "    <tr>\n",
       "      <th>5</th>\n",
       "      <td>-0.524770</td>\n",
       "      <td>0.209800</td>\n",
       "      <td>1</td>\n",
       "    </tr>\n",
       "    <tr>\n",
       "      <th>6</th>\n",
       "      <td>-0.398040</td>\n",
       "      <td>0.034357</td>\n",
       "      <td>1</td>\n",
       "    </tr>\n",
       "    <tr>\n",
       "      <th>7</th>\n",
       "      <td>-0.305880</td>\n",
       "      <td>-0.192250</td>\n",
       "      <td>1</td>\n",
       "    </tr>\n",
       "    <tr>\n",
       "      <th>8</th>\n",
       "      <td>0.016705</td>\n",
       "      <td>-0.404240</td>\n",
       "      <td>1</td>\n",
       "    </tr>\n",
       "    <tr>\n",
       "      <th>9</th>\n",
       "      <td>0.131910</td>\n",
       "      <td>-0.513890</td>\n",
       "      <td>1</td>\n",
       "    </tr>\n",
       "  </tbody>\n",
       "</table>\n",
       "</div>"
      ],
      "text/plain": [
       "     Test 1    Test 2  Accepted?\n",
       "0  0.051267  0.699560          1\n",
       "1 -0.092742  0.684940          1\n",
       "2 -0.213710  0.692250          1\n",
       "3 -0.375000  0.502190          1\n",
       "4 -0.513250  0.465640          1\n",
       "5 -0.524770  0.209800          1\n",
       "6 -0.398040  0.034357          1\n",
       "7 -0.305880 -0.192250          1\n",
       "8  0.016705 -0.404240          1\n",
       "9  0.131910 -0.513890          1"
      ]
     },
     "execution_count": 1,
     "metadata": {},
     "output_type": "execute_result"
    }
   ],
   "source": [
    "#Reading The File\n",
    "import pandas as pd\n",
    "import numpy as np\n",
    "import matplotlib.pyplot as plt\n",
    "%matplotlib inline\n",
    "data=pd.read_csv('ex2data2.txt',names=['Test 1','Test 2','Accepted?'])\n",
    "data.head(n=10)"
   ]
  },
  {
   "cell_type": "code",
   "execution_count": 2,
   "metadata": {},
   "outputs": [
    {
     "data": {
      "text/html": [
       "<div>\n",
       "<style scoped>\n",
       "    .dataframe tbody tr th:only-of-type {\n",
       "        vertical-align: middle;\n",
       "    }\n",
       "\n",
       "    .dataframe tbody tr th {\n",
       "        vertical-align: top;\n",
       "    }\n",
       "\n",
       "    .dataframe thead th {\n",
       "        text-align: right;\n",
       "    }\n",
       "</style>\n",
       "<table border=\"1\" class=\"dataframe\">\n",
       "  <thead>\n",
       "    <tr style=\"text-align: right;\">\n",
       "      <th></th>\n",
       "      <th>Test 1</th>\n",
       "      <th>Test 2</th>\n",
       "      <th>Accepted?</th>\n",
       "    </tr>\n",
       "  </thead>\n",
       "  <tbody>\n",
       "    <tr>\n",
       "      <th>count</th>\n",
       "      <td>118.000000</td>\n",
       "      <td>118.000000</td>\n",
       "      <td>118.000000</td>\n",
       "    </tr>\n",
       "    <tr>\n",
       "      <th>mean</th>\n",
       "      <td>0.054779</td>\n",
       "      <td>0.183102</td>\n",
       "      <td>0.491525</td>\n",
       "    </tr>\n",
       "    <tr>\n",
       "      <th>std</th>\n",
       "      <td>0.496654</td>\n",
       "      <td>0.519743</td>\n",
       "      <td>0.502060</td>\n",
       "    </tr>\n",
       "    <tr>\n",
       "      <th>min</th>\n",
       "      <td>-0.830070</td>\n",
       "      <td>-0.769740</td>\n",
       "      <td>0.000000</td>\n",
       "    </tr>\n",
       "    <tr>\n",
       "      <th>25%</th>\n",
       "      <td>-0.372120</td>\n",
       "      <td>-0.254385</td>\n",
       "      <td>0.000000</td>\n",
       "    </tr>\n",
       "    <tr>\n",
       "      <th>50%</th>\n",
       "      <td>-0.006336</td>\n",
       "      <td>0.213455</td>\n",
       "      <td>0.000000</td>\n",
       "    </tr>\n",
       "    <tr>\n",
       "      <th>75%</th>\n",
       "      <td>0.478970</td>\n",
       "      <td>0.646562</td>\n",
       "      <td>1.000000</td>\n",
       "    </tr>\n",
       "    <tr>\n",
       "      <th>max</th>\n",
       "      <td>1.070900</td>\n",
       "      <td>1.108900</td>\n",
       "      <td>1.000000</td>\n",
       "    </tr>\n",
       "  </tbody>\n",
       "</table>\n",
       "</div>"
      ],
      "text/plain": [
       "           Test 1      Test 2   Accepted?\n",
       "count  118.000000  118.000000  118.000000\n",
       "mean     0.054779    0.183102    0.491525\n",
       "std      0.496654    0.519743    0.502060\n",
       "min     -0.830070   -0.769740    0.000000\n",
       "25%     -0.372120   -0.254385    0.000000\n",
       "50%     -0.006336    0.213455    0.000000\n",
       "75%      0.478970    0.646562    1.000000\n",
       "max      1.070900    1.108900    1.000000"
      ]
     },
     "execution_count": 2,
     "metadata": {},
     "output_type": "execute_result"
    }
   ],
   "source": [
    "#Describing The Data\n",
    "data.describe()"
   ]
  },
  {
   "cell_type": "code",
   "execution_count": 3,
   "metadata": {},
   "outputs": [
    {
     "data": {
      "text/plain": [
       "Text(0,0.5,'Test 2')"
      ]
     },
     "execution_count": 3,
     "metadata": {},
     "output_type": "execute_result"
    },
    {
     "data": {
      "image/png": "[encoded data removed]",
      "text/plain": [
       "<Figure size 720x720 with 1 Axes>"
      ]
     },
     "metadata": {},
     "output_type": "display_data"
    }
   ],
   "source": [
    "#Now Plotting The Data\n",
    "accepted=data[data['Accepted?'].isin([0])]\n",
    "notAccepted=data[data['Accepted?'].isin([1])]\n",
    "fig,ax=plt.subplots(figsize=(10,10))\n",
    "ax.scatter(accepted['Test 1'],accepted['Test 2'],s=60,c='r',marker='o',label='Accepted')\n",
    "ax.scatter(notAccepted['Test 1'],notAccepted['Test 2'],s=60,c='b',marker='x',label='Not Accepted')\n",
    "ax.legend()\n",
    "ax.set_xlabel('Test 1')\n",
    "ax.set_ylabel('Test 2')"
   ]
  },
  {
   "cell_type": "code",
   "execution_count": 4,
   "metadata": {},
   "outputs": [],
   "source": [
    "#Now Taking The Individual Values\n",
    "testOneScore=data['Test 1'].values\n",
    "testTwoScore=data['Test 2'].values\n",
    "isAccepted=data['Accepted?'].values\n",
    "Y=np.array(isAccepted)\n",
    "m=len(Y)\n",
    "X0=np.ones(m)\n",
    "X=np.array([X0,testOneScore,testTwoScore]).T\n",
    "degree=6\n",
    "#Increasing The Degree Of Our X Matrix\n",
    "degree = 6\n",
    "m, n = X.shape\n",
    "for i in range(1, degree + 1):\n",
    "    for j in range(i + 1):\n",
    "        newX = (X ** (i - j)) * (X ** j)\n",
    "theta=np.array([0,0,0])\n",
    "#Took ALl The data"
   ]
  },
  {
   "cell_type": "code",
   "execution_count": 44,
   "metadata": {},
   "outputs": [],
   "source": [
    "#Defining The Sigmoid and The CostFunc With Regularziation Term\n",
    "def sigmoid(z):\n",
    "    return (1/(1+np.exp(-z)))\n",
    "def costCompute(newX,Y,theta,learnRate):\n",
    "    alpha=0.0011\n",
    "    iters=10000\n",
    "    h=newX.dot(theta)\n",
    "    first=np.multiply(-Y,np.log(sigmoid(h)))\n",
    "    second=np.multiply((1-Y),np.log(1-sigmoid(h)))\n",
    "    reg = (learnRate / 2 * m) * np.sum(np.power(theta, 2))\n",
    "    res=np.sum((first-second)/m)+reg\n",
    "    return res"
   ]
  },
  {
   "cell_type": "code",
   "execution_count": 45,
   "metadata": {},
   "outputs": [
    {
     "data": {
      "text/plain": [
       "48.065445613169615"
      ]
     },
     "execution_count": 45,
     "metadata": {},
     "output_type": "execute_result"
    }
   ],
   "source": [
    "costCompute(newX,Y,theta,1)\n"
   ]
  },
  {
   "cell_type": "code",
   "execution_count": 46,
   "metadata": {},
   "outputs": [],
   "source": [
    "#Defining The Hypothesis and the gradient func\n",
    "def gradientDescent(newX,Y,theta,learnRate,iters,alpha):\n",
    "    learnRate=1\n",
    "    costHistory=[0]*iters\n",
    "    for iterations in range(iters):\n",
    "        #Calculating The Hypothesis\n",
    "        hypothesis=sigmoid(newX.dot(theta))\n",
    "        #Error\n",
    "        error=hypothesis-Y\n",
    "        #The Gradient\n",
    "        gradient=(X.T.dot(error))/m\n",
    "        #new theta\n",
    "        if iterations==1:\n",
    "            theta=theta-alpha*gradient\n",
    "        else:\n",
    "            theta=theta-((alpha*gradient)+(learnRate/m*theta))\n",
    "        #new cost func\n",
    "        newCost=costCompute(newX,Y,theta,1)\n",
    "        costHistory[iterations]=newCost\n",
    "    return theta,costHistory"
   ]
  },
  {
   "cell_type": "code",
   "execution_count": 47,
   "metadata": {},
   "outputs": [
    {
     "name": "stdout",
     "output_type": "stream",
     "text": [
      "[ 0.03374482 -0.89562359 -0.00685541]\n",
      "48.065445613169615\n"
     ]
    }
   ],
   "source": [
    "theta,cost=gradientDescent(newX,Y,theta,1,100000,0.8)\n",
    "print(theta)\n",
    "print(cost[-1])"
   ]
  },
  {
   "cell_type": "code",
   "execution_count": 48,
   "metadata": {},
   "outputs": [
    {
     "name": "stdout",
     "output_type": "stream",
     "text": [
      "accuracy = 78%\n"
     ]
    }
   ],
   "source": [
    "#Accuracy Prediction\n",
    "def predict(theta, newX):  \n",
    "    probability = sigmoid(newX.dot(theta))\n",
    "    return [1 if x >= 0.5 else 0 for x in probability]\n",
    "\n",
    "predictions = predict(theta, newX)  \n",
    "correct = [1 if ((a == 1 and b == 1) or (a == 0 and b == 0)) else 0 for (a, b) in zip(predictions, Y)]  \n",
    "accuracy = (sum(map(int, correct)) % len(correct))  \n",
    "print('accuracy = {0}%'.format(accuracy))  "
   ]
  },
  {
   "cell_type": "code",
   "execution_count": 60,
   "metadata": {},
   "outputs": [
    {
     "data": {
      "text/plain": [
       "array([[37, 23],\n",
       "       [ 6, 52]], dtype=int64)"
      ]
     },
     "execution_count": 60,
     "metadata": {},
     "output_type": "execute_result"
    }
   ],
   "source": [
    "from sklearn.linear_model import LogisticRegression\n",
    "from sklearn.preprocessing import PolynomialFeatures\n",
    "LogReg = LogisticRegression()\n",
    "poly = PolynomialFeatures(6)\n",
    "poly.fit_transform(newX)\n",
    "LogReg.fit(newX, Y)\n",
    "y_pred = LogReg.predict(newX)\n",
    "from sklearn.metrics import confusion_matrix\n",
    "confusion_matrix = confusion_matrix(Y, y_pred)\n",
    "confusion_matrix"
   ]
  },
  {
   "cell_type": "code",
   "execution_count": 61,
   "metadata": {},
   "outputs": [
    {
     "name": "stdout",
     "output_type": "stream",
     "text": [
      "             precision    recall  f1-score   support\n",
      "\n",
      "          0       0.86      0.62      0.72        60\n",
      "          1       0.69      0.90      0.78        58\n",
      "\n",
      "avg / total       0.78      0.75      0.75       118\n",
      "\n"
     ]
    }
   ],
   "source": [
    "from sklearn.metrics import classification_report\n",
    "print(classification_report(Y, y_pred))"
   ]
  },
  {
   "cell_type": "code",
   "execution_count": null,
   "metadata": {},
   "outputs": [],
   "source": []
  }
 ],
 "metadata": {
  "kernelspec": {
   "display_name": "Python 3",
   "language": "python",
   "name": "python3"
  },
  "language_info": {
   "codemirror_mode": {
    "name": "ipython",
    "version": 3
   },
   "file_extension": ".py",
   "mimetype": "text/x-python",
   "name": "python",
   "nbconvert_exporter": "python",
   "pygments_lexer": "ipython3",
   "version": "3.6.5"
  }
 },
 "nbformat": 4,
 "nbformat_minor": 2
}
