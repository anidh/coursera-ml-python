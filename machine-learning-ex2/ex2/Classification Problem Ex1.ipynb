{
 "cells": [
  {
   "cell_type": "code",
   "execution_count": 1,
   "metadata": {},
   "outputs": [
    {
     "data": {
      "text/html": [
       "<div>\n",
       "<style scoped>\n",
       "    .dataframe tbody tr th:only-of-type {\n",
       "        vertical-align: middle;\n",
       "    }\n",
       "\n",
       "    .dataframe tbody tr th {\n",
       "        vertical-align: top;\n",
       "    }\n",
       "\n",
       "    .dataframe thead th {\n",
       "        text-align: right;\n",
       "    }\n",
       "</style>\n",
       "<table border=\"1\" class=\"dataframe\">\n",
       "  <thead>\n",
       "    <tr style=\"text-align: right;\">\n",
       "      <th></th>\n",
       "      <th>Test 1</th>\n",
       "      <th>Test 2</th>\n",
       "      <th>Selected?</th>\n",
       "    </tr>\n",
       "  </thead>\n",
       "  <tbody>\n",
       "    <tr>\n",
       "      <th>0</th>\n",
       "      <td>34.623660</td>\n",
       "      <td>78.024693</td>\n",
       "      <td>0</td>\n",
       "    </tr>\n",
       "    <tr>\n",
       "      <th>1</th>\n",
       "      <td>30.286711</td>\n",
       "      <td>43.894998</td>\n",
       "      <td>0</td>\n",
       "    </tr>\n",
       "    <tr>\n",
       "      <th>2</th>\n",
       "      <td>35.847409</td>\n",
       "      <td>72.902198</td>\n",
       "      <td>0</td>\n",
       "    </tr>\n",
       "    <tr>\n",
       "      <th>3</th>\n",
       "      <td>60.182599</td>\n",
       "      <td>86.308552</td>\n",
       "      <td>1</td>\n",
       "    </tr>\n",
       "    <tr>\n",
       "      <th>4</th>\n",
       "      <td>79.032736</td>\n",
       "      <td>75.344376</td>\n",
       "      <td>1</td>\n",
       "    </tr>\n",
       "    <tr>\n",
       "      <th>5</th>\n",
       "      <td>45.083277</td>\n",
       "      <td>56.316372</td>\n",
       "      <td>0</td>\n",
       "    </tr>\n",
       "    <tr>\n",
       "      <th>6</th>\n",
       "      <td>61.106665</td>\n",
       "      <td>96.511426</td>\n",
       "      <td>1</td>\n",
       "    </tr>\n",
       "    <tr>\n",
       "      <th>7</th>\n",
       "      <td>75.024746</td>\n",
       "      <td>46.554014</td>\n",
       "      <td>1</td>\n",
       "    </tr>\n",
       "    <tr>\n",
       "      <th>8</th>\n",
       "      <td>76.098787</td>\n",
       "      <td>87.420570</td>\n",
       "      <td>1</td>\n",
       "    </tr>\n",
       "    <tr>\n",
       "      <th>9</th>\n",
       "      <td>84.432820</td>\n",
       "      <td>43.533393</td>\n",
       "      <td>1</td>\n",
       "    </tr>\n",
       "    <tr>\n",
       "      <th>10</th>\n",
       "      <td>95.861555</td>\n",
       "      <td>38.225278</td>\n",
       "      <td>0</td>\n",
       "    </tr>\n",
       "    <tr>\n",
       "      <th>11</th>\n",
       "      <td>75.013658</td>\n",
       "      <td>30.603263</td>\n",
       "      <td>0</td>\n",
       "    </tr>\n",
       "    <tr>\n",
       "      <th>12</th>\n",
       "      <td>82.307053</td>\n",
       "      <td>76.481963</td>\n",
       "      <td>1</td>\n",
       "    </tr>\n",
       "    <tr>\n",
       "      <th>13</th>\n",
       "      <td>69.364589</td>\n",
       "      <td>97.718692</td>\n",
       "      <td>1</td>\n",
       "    </tr>\n",
       "    <tr>\n",
       "      <th>14</th>\n",
       "      <td>39.538339</td>\n",
       "      <td>76.036811</td>\n",
       "      <td>0</td>\n",
       "    </tr>\n",
       "    <tr>\n",
       "      <th>15</th>\n",
       "      <td>53.971052</td>\n",
       "      <td>89.207350</td>\n",
       "      <td>1</td>\n",
       "    </tr>\n",
       "    <tr>\n",
       "      <th>16</th>\n",
       "      <td>69.070144</td>\n",
       "      <td>52.740470</td>\n",
       "      <td>1</td>\n",
       "    </tr>\n",
       "    <tr>\n",
       "      <th>17</th>\n",
       "      <td>67.946855</td>\n",
       "      <td>46.678574</td>\n",
       "      <td>0</td>\n",
       "    </tr>\n",
       "    <tr>\n",
       "      <th>18</th>\n",
       "      <td>70.661510</td>\n",
       "      <td>92.927138</td>\n",
       "      <td>1</td>\n",
       "    </tr>\n",
       "    <tr>\n",
       "      <th>19</th>\n",
       "      <td>76.978784</td>\n",
       "      <td>47.575964</td>\n",
       "      <td>1</td>\n",
       "    </tr>\n",
       "  </tbody>\n",
       "</table>\n",
       "</div>"
      ],
      "text/plain": [
       "       Test 1     Test 2  Selected?\n",
       "0   34.623660  78.024693          0\n",
       "1   30.286711  43.894998          0\n",
       "2   35.847409  72.902198          0\n",
       "3   60.182599  86.308552          1\n",
       "4   79.032736  75.344376          1\n",
       "5   45.083277  56.316372          0\n",
       "6   61.106665  96.511426          1\n",
       "7   75.024746  46.554014          1\n",
       "8   76.098787  87.420570          1\n",
       "9   84.432820  43.533393          1\n",
       "10  95.861555  38.225278          0\n",
       "11  75.013658  30.603263          0\n",
       "12  82.307053  76.481963          1\n",
       "13  69.364589  97.718692          1\n",
       "14  39.538339  76.036811          0\n",
       "15  53.971052  89.207350          1\n",
       "16  69.070144  52.740470          1\n",
       "17  67.946855  46.678574          0\n",
       "18  70.661510  92.927138          1\n",
       "19  76.978784  47.575964          1"
      ]
     },
     "execution_count": 1,
     "metadata": {},
     "output_type": "execute_result"
    }
   ],
   "source": [
    "#Reading Our Data Set Here\n",
    "import pandas as pd\n",
    "import numpy as np\n",
    "import matplotlib.pyplot as mpl\n",
    "%matplotlib inline\n",
    "data = pd.read_csv('ex2data1.txt',names=['Test 1','Test 2','Selected?'])\n",
    "data.head(n=20)"
   ]
  },
  {
   "cell_type": "code",
   "execution_count": 2,
   "metadata": {},
   "outputs": [
    {
     "data": {
      "text/html": [
       "<div>\n",
       "<style scoped>\n",
       "    .dataframe tbody tr th:only-of-type {\n",
       "        vertical-align: middle;\n",
       "    }\n",
       "\n",
       "    .dataframe tbody tr th {\n",
       "        vertical-align: top;\n",
       "    }\n",
       "\n",
       "    .dataframe thead th {\n",
       "        text-align: right;\n",
       "    }\n",
       "</style>\n",
       "<table border=\"1\" class=\"dataframe\">\n",
       "  <thead>\n",
       "    <tr style=\"text-align: right;\">\n",
       "      <th></th>\n",
       "      <th>Test 1</th>\n",
       "      <th>Test 2</th>\n",
       "      <th>Selected?</th>\n",
       "    </tr>\n",
       "  </thead>\n",
       "  <tbody>\n",
       "    <tr>\n",
       "      <th>count</th>\n",
       "      <td>100.000000</td>\n",
       "      <td>100.000000</td>\n",
       "      <td>100.000000</td>\n",
       "    </tr>\n",
       "    <tr>\n",
       "      <th>mean</th>\n",
       "      <td>65.644274</td>\n",
       "      <td>66.221998</td>\n",
       "      <td>0.600000</td>\n",
       "    </tr>\n",
       "    <tr>\n",
       "      <th>std</th>\n",
       "      <td>19.458222</td>\n",
       "      <td>18.582783</td>\n",
       "      <td>0.492366</td>\n",
       "    </tr>\n",
       "    <tr>\n",
       "      <th>min</th>\n",
       "      <td>30.058822</td>\n",
       "      <td>30.603263</td>\n",
       "      <td>0.000000</td>\n",
       "    </tr>\n",
       "    <tr>\n",
       "      <th>25%</th>\n",
       "      <td>50.919511</td>\n",
       "      <td>48.179205</td>\n",
       "      <td>0.000000</td>\n",
       "    </tr>\n",
       "    <tr>\n",
       "      <th>50%</th>\n",
       "      <td>67.032988</td>\n",
       "      <td>67.682381</td>\n",
       "      <td>1.000000</td>\n",
       "    </tr>\n",
       "    <tr>\n",
       "      <th>75%</th>\n",
       "      <td>80.212529</td>\n",
       "      <td>79.360605</td>\n",
       "      <td>1.000000</td>\n",
       "    </tr>\n",
       "    <tr>\n",
       "      <th>max</th>\n",
       "      <td>99.827858</td>\n",
       "      <td>98.869436</td>\n",
       "      <td>1.000000</td>\n",
       "    </tr>\n",
       "  </tbody>\n",
       "</table>\n",
       "</div>"
      ],
      "text/plain": [
       "           Test 1      Test 2   Selected?\n",
       "count  100.000000  100.000000  100.000000\n",
       "mean    65.644274   66.221998    0.600000\n",
       "std     19.458222   18.582783    0.492366\n",
       "min     30.058822   30.603263    0.000000\n",
       "25%     50.919511   48.179205    0.000000\n",
       "50%     67.032988   67.682381    1.000000\n",
       "75%     80.212529   79.360605    1.000000\n",
       "max     99.827858   98.869436    1.000000"
      ]
     },
     "execution_count": 2,
     "metadata": {},
     "output_type": "execute_result"
    }
   ],
   "source": [
    "#Describing The Data Here\n",
    "data.describe()"
   ]
  },
  {
   "cell_type": "code",
   "execution_count": 3,
   "metadata": {},
   "outputs": [
    {
     "data": {
      "text/plain": [
       "Text(0,0.5,'Test 2 Score')"
      ]
     },
     "execution_count": 3,
     "metadata": {},
     "output_type": "execute_result"
    },
    {
     "data": {
      "image/png": "[encoded data removed]",
      "text/plain": [
       "<Figure size 720x720 with 1 Axes>"
      ]
     },
     "metadata": {},
     "output_type": "display_data"
    }
   ],
   "source": [
    "#Plotting The Data Here\n",
    "admitted=data[data['Selected?'].isin([1])]\n",
    "notAdmitted=data[data['Selected?'].isin([0])]\n",
    "fig,ax=mpl.subplots(figsize=(10,10))\n",
    "ax.scatter(admitted['Test 1'], admitted['Test 2'], s=60, c='b', marker='o', label='Admitted')  \n",
    "ax.scatter(notAdmitted['Test 1'], notAdmitted['Test 2'], s=50, c='r', marker='x', label='Not Admitted')  \n",
    "ax.legend()  \n",
    "ax.set_xlabel('Test 1 Score')  \n",
    "ax.set_ylabel('Test 2 Score')  "
   ]
  },
  {
   "cell_type": "code",
   "execution_count": 4,
   "metadata": {},
   "outputs": [
    {
     "name": "stdout",
     "output_type": "stream",
     "text": [
      "<class 'numpy.ndarray'>\n"
     ]
    }
   ],
   "source": [
    "#Now Taking The Various Column Wise Values From The Data Set\n",
    "testOneScore=data['Test 1'].values\n",
    "testTwoScore=data['Test 2'].values\n",
    "selected=data['Selected?'].values\n",
    "print(type(testOneScore))\n",
    "#Now Forming The Matrix Here\n",
    "m=len(selected)\n",
    "X0=np.ones(m)\n",
    "X=np.array([X0,testOneScore,testTwoScore]).T\n",
    "Y=np.array(selected)\n",
    "theta=np.array([0,0,0])"
   ]
  },
  {
   "cell_type": "code",
   "execution_count": 5,
   "metadata": {},
   "outputs": [],
   "source": [
    "#Now Making The Cost Model Here\n",
    "alpha=0.0011\n",
    "iters=10000\n",
    "def sigmoidFunc(z):\n",
    "    return(1 / (1 + np.exp(-z)))\n",
    "def computeCost(X,Y,theta):\n",
    "    h=sigmoidFunc(X.dot(theta))\n",
    "    inner=-1*(1/m)*(np.log(h).T).dot(Y)+(np.log(1-(h)).T)*(1-Y)\n",
    "    return inner"
   ]
  },
  {
   "cell_type": "code",
   "execution_count": 6,
   "metadata": {},
   "outputs": [
    {
     "data": {
      "text/plain": [
       "array([-0.27725887, -0.27725887, -0.27725887,  0.41588831,  0.41588831,\n",
       "       -0.27725887,  0.41588831,  0.41588831,  0.41588831,  0.41588831,\n",
       "       -0.27725887, -0.27725887,  0.41588831,  0.41588831, -0.27725887,\n",
       "        0.41588831,  0.41588831, -0.27725887,  0.41588831,  0.41588831,\n",
       "       -0.27725887,  0.41588831, -0.27725887, -0.27725887,  0.41588831,\n",
       "        0.41588831,  0.41588831, -0.27725887, -0.27725887, -0.27725887,\n",
       "        0.41588831,  0.41588831, -0.27725887,  0.41588831, -0.27725887,\n",
       "       -0.27725887, -0.27725887,  0.41588831, -0.27725887, -0.27725887,\n",
       "        0.41588831, -0.27725887,  0.41588831, -0.27725887, -0.27725887,\n",
       "       -0.27725887,  0.41588831,  0.41588831,  0.41588831,  0.41588831,\n",
       "        0.41588831,  0.41588831,  0.41588831, -0.27725887, -0.27725887,\n",
       "       -0.27725887,  0.41588831, -0.27725887,  0.41588831,  0.41588831,\n",
       "        0.41588831, -0.27725887, -0.27725887, -0.27725887, -0.27725887,\n",
       "       -0.27725887,  0.41588831, -0.27725887,  0.41588831,  0.41588831,\n",
       "       -0.27725887,  0.41588831,  0.41588831,  0.41588831,  0.41588831,\n",
       "        0.41588831,  0.41588831,  0.41588831, -0.27725887, -0.27725887,\n",
       "        0.41588831,  0.41588831,  0.41588831,  0.41588831,  0.41588831,\n",
       "        0.41588831, -0.27725887,  0.41588831,  0.41588831, -0.27725887,\n",
       "        0.41588831,  0.41588831, -0.27725887,  0.41588831,  0.41588831,\n",
       "        0.41588831,  0.41588831,  0.41588831,  0.41588831,  0.41588831])"
      ]
     },
     "execution_count": 6,
     "metadata": {},
     "output_type": "execute_result"
    }
   ],
   "source": [
    "computeCost(X,Y,theta)\n",
    "#hypothesis=sigmoidFunc(X,theta)\n",
    "#print(hypothesis)"
   ]
  },
  {
   "cell_type": "code",
   "execution_count": 7,
   "metadata": {},
   "outputs": [],
   "source": [
    "#Now Defining the Gradient Descent Function\n",
    "def gradientDescent(X,Y,alpha,theta,iters):\n",
    "    costHistory=[0]*iters\n",
    "    for iterations in range(iters):\n",
    "        hypothesis=sigmoidFunc(X.dot(theta))\n",
    "        #Getting The Error\n",
    "        error=hypothesis-Y\n",
    "        #Getting the gradient\n",
    "        gradient=X.T.dot(error)/m\n",
    "        #Gradient Descent\n",
    "        theta=theta-alpha*gradient\n",
    "        #Now getting the new cost function\n",
    "        newCost=computeCost(X,Y,theta)\n",
    "        costHistory[iterations]=newCost\n",
    "    return costHistory,theta"
   ]
  },
  {
   "cell_type": "code",
   "execution_count": 8,
   "metadata": {},
   "outputs": [
    {
     "name": "stdout",
     "output_type": "stream",
     "text": [
      "[-5.15114556  0.04784697  0.04086174]\n",
      "[-0.39657417  0.01681304 -0.33539994  0.15511188  0.15511188 -0.25044819\n",
      "  0.15511188  0.15511188  0.15511188  0.15511188 -1.15631611 -0.39437972\n",
      "  0.15511188  0.15511188 -0.46475449  0.15511188  0.15511188 -0.54167864\n",
      "  0.15511188  0.15511188 -0.45338024  0.15511188 -0.23598854 -0.01148498\n",
      "  0.15511188  0.15511188  0.15511188 -1.07863006 -0.47085289 -0.26854841\n",
      "  0.15511188  0.15511188 -0.49958806  0.15511188 -0.39166753 -0.35651187\n",
      " -0.82619243  0.15511188 -0.60304812 -0.34156571  0.15511188 -0.22535019\n",
      "  0.15511188 -0.78794315 -0.20488423 -0.51496948  0.15511188  0.15511188\n",
      "  0.15511188  0.15511188  0.15511188  0.15511188  0.15511188 -0.14981399\n",
      " -0.24477078 -0.38463369  0.15511188 -0.70725046  0.15511188  0.15511188\n",
      "  0.15511188 -0.038863   -0.1991755  -0.01477657 -0.39982305 -0.40466179\n",
      "  0.15511188 -0.2537022   0.15511188  0.15511188  0.00436746  0.15511188\n",
      "  0.15511188  0.15511188  0.15511188  0.15511188  0.15511188  0.15511188\n",
      " -0.31087884 -0.83696382  0.15511188  0.15511188  0.15511188  0.15511188\n",
      "  0.15511188  0.15511188 -0.58079861  0.15511188  0.15511188 -0.45971295\n",
      "  0.15511188  0.15511188 -0.14676293  0.15511188  0.15511188  0.15511188\n",
      "  0.15511188  0.15511188  0.15511188  0.15511188]\n"
     ]
    }
   ],
   "source": [
    "newCost,theta=gradientDescent(X,Y,alpha,theta,100000)\n",
    "print(theta)\n",
    "print(newCost[-1])"
   ]
  },
  {
   "cell_type": "code",
   "execution_count": 9,
   "metadata": {},
   "outputs": [
    {
     "name": "stdout",
     "output_type": "stream",
     "text": [
      "accuracy = 91%\n"
     ]
    }
   ],
   "source": [
    "def predict(theta, X):  \n",
    "    probability = sigmoidFunc(X.dot(theta))\n",
    "    return [1 if x >= 0.5 else 0 for x in probability]\n",
    "\n",
    "predictions = predict(theta, X)  \n",
    "correct = [1 if ((a == 1 and b == 1) or (a == 0 and b == 0)) else 0 for (a, b) in zip(predictions, Y)]  \n",
    "accuracy = (sum(map(int, correct)) % len(correct))  \n",
    "print('accuracy = {0}%'.format(accuracy))  "
   ]
  },
  {
   "cell_type": "code",
   "execution_count": 10,
   "metadata": {},
   "outputs": [
    {
     "data": {
      "text/plain": [
       "0.6166175834416155"
      ]
     },
     "execution_count": 10,
     "metadata": {},
     "output_type": "execute_result"
    }
   ],
   "source": [
    "XX=(np.array([1,45,85])).T\n",
    "sigmoidFunc(XX.dot(theta))"
   ]
  },
  {
   "cell_type": "code",
   "execution_count": null,
   "metadata": {},
   "outputs": [],
   "source": []
  },
  {
   "cell_type": "code",
   "execution_count": null,
   "metadata": {},
   "outputs": [],
   "source": []
  }
 ],
 "metadata": {
  "kernelspec": {
   "display_name": "Python 3",
   "language": "python",
   "name": "python3"
  },
  "language_info": {
   "codemirror_mode": {
    "name": "ipython",
    "version": 3
   },
   "file_extension": ".py",
   "mimetype": "text/x-python",
   "name": "python",
   "nbconvert_exporter": "python",
   "pygments_lexer": "ipython3",
   "version": "3.6.5"
  }
 },
 "nbformat": 4,
 "nbformat_minor": 2
}
